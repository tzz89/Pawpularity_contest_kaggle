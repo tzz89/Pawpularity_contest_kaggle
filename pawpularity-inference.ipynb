{
 "cells": [
  {
   "cell_type": "code",
   "execution_count": 1,
   "id": "a2263efb",
   "metadata": {
    "execution": {
     "iopub.execute_input": "2021-11-23T14:36:43.130486Z",
     "iopub.status.busy": "2021-11-23T14:36:43.129386Z",
     "iopub.status.idle": "2021-11-23T14:37:18.138778Z",
     "shell.execute_reply": "2021-11-23T14:37:18.137746Z",
     "shell.execute_reply.started": "2021-11-23T14:08:24.897511Z"
    },
    "papermill": {
     "duration": 35.042013,
     "end_time": "2021-11-23T14:37:18.138971",
     "exception": false,
     "start_time": "2021-11-23T14:36:43.096958",
     "status": "completed"
    },
    "tags": []
   },
   "outputs": [
    {
     "name": "stdout",
     "output_type": "stream",
     "text": [
      "Processing /kaggle/input/timm22nov/pytorch-image-models-master\r\n",
      "\u001b[33m  DEPRECATION: A future pip version will change local packages to be built in-place without first copying to a temporary directory. We recommend you use --use-feature=in-tree-build to test your packages with this new behavior before it becomes the default.\r\n",
      "   pip 21.3 will remove support for this functionality. You can find discussion regarding this at https://github.com/pypa/pip/issues/7555.\u001b[0m\r\n",
      "Requirement already satisfied: torch>=1.4 in /opt/conda/lib/python3.7/site-packages (from timm==0.5.0) (1.9.1)\r\n",
      "Requirement already satisfied: torchvision in /opt/conda/lib/python3.7/site-packages (from timm==0.5.0) (0.10.1)\r\n",
      "Requirement already satisfied: typing-extensions in /opt/conda/lib/python3.7/site-packages (from torch>=1.4->timm==0.5.0) (3.10.0.2)\r\n",
      "Requirement already satisfied: pillow>=5.3.0 in /opt/conda/lib/python3.7/site-packages (from torchvision->timm==0.5.0) (8.2.0)\r\n",
      "Requirement already satisfied: numpy in /opt/conda/lib/python3.7/site-packages (from torchvision->timm==0.5.0) (1.19.5)\r\n",
      "Building wheels for collected packages: timm\r\n",
      "  Building wheel for timm (setup.py) ... \u001b[?25l-\b \b\\\b \b|\b \b/\b \bdone\r\n",
      "\u001b[?25h  Created wheel for timm: filename=timm-0.5.0-py3-none-any.whl size=424001 sha256=1d13307c2f5dd173a8b3f65e4e6c60137a0bcb915c136f18d62c3e188dc87147\r\n",
      "  Stored in directory: /root/.cache/pip/wheels/c9/5e/a8/445d26613f8ec895f465af030f071dfdcaaebb123a0f6c1d73\r\n",
      "Successfully built timm\r\n",
      "Installing collected packages: timm\r\n",
      "Successfully installed timm-0.5.0\r\n",
      "\u001b[33mWARNING: Running pip as the 'root' user can result in broken permissions and conflicting behaviour with the system package manager. It is recommended to use a virtual environment instead: https://pip.pypa.io/warnings/venv\u001b[0m\r\n"
     ]
    }
   ],
   "source": [
    "!pip install ../input/timm22nov/pytorch-image-models-master"
   ]
  },
  {
   "cell_type": "code",
   "execution_count": 2,
   "id": "f3b679d3",
   "metadata": {
    "_cell_guid": "b1076dfc-b9ad-4769-8c92-a6c4dae69d19",
    "_uuid": "8f2839f25d086af736a60e9eeb907d3b93b6e0e5",
    "execution": {
     "iopub.execute_input": "2021-11-23T14:37:18.189426Z",
     "iopub.status.busy": "2021-11-23T14:37:18.187852Z",
     "iopub.status.idle": "2021-11-23T14:37:27.935187Z",
     "shell.execute_reply": "2021-11-23T14:37:27.935769Z",
     "shell.execute_reply.started": "2021-11-23T14:08:58.685390Z"
    },
    "papermill": {
     "duration": 9.774418,
     "end_time": "2021-11-23T14:37:27.935962",
     "exception": false,
     "start_time": "2021-11-23T14:37:18.161544",
     "status": "completed"
    },
    "tags": []
   },
   "outputs": [],
   "source": [
    "# pytorch lib\n",
    "import torch\n",
    "import torch.nn as nn\n",
    "import torch.nn.functional as F\n",
    "from torch.utils.data import Dataset, DataLoader\n",
    "from torch.optim.lr_scheduler import CosineAnnealingLR, ReduceLROnPlateau\n",
    "import timm\n",
    "\n",
    "\n",
    "# image agumentation lib\n",
    "import albumentations as A\n",
    "from albumentations.pytorch import ToTensorV2\n",
    "\n",
    "# numeric lib\n",
    "import numpy as np\n",
    "import pandas as pd\n",
    "\n",
    "# image library\n",
    "from PIL import Image\n",
    "\n",
    "#python lib\n",
    "import random\n",
    "import os\n",
    "import tqdm\n",
    "\n",
    "# ploting library\n",
    "import matplotlib.pyplot as plt\n",
    "import wandb \n",
    "\n",
    "#sklearn library\n",
    "from sklearn.model_selection import StratifiedKFold"
   ]
  },
  {
   "cell_type": "code",
   "execution_count": 3,
   "id": "75433afe",
   "metadata": {
    "execution": {
     "iopub.execute_input": "2021-11-23T14:37:27.987349Z",
     "iopub.status.busy": "2021-11-23T14:37:27.985314Z",
     "iopub.status.idle": "2021-11-23T14:37:27.988067Z",
     "shell.execute_reply": "2021-11-23T14:37:27.988613Z",
     "shell.execute_reply.started": "2021-11-23T14:09:07.088939Z"
    },
    "papermill": {
     "duration": 0.033244,
     "end_time": "2021-11-23T14:37:27.988763",
     "exception": false,
     "start_time": "2021-11-23T14:37:27.955519",
     "status": "completed"
    },
    "tags": []
   },
   "outputs": [],
   "source": [
    "class Config:\n",
    "    seed = 42\n",
    "    epochs = 4\n",
    "    train_img_dir = \"../input/petfinder-pawpularity-score/train\"\n",
    "    image_size = 384\n",
    "    n_splits = 10\n",
    "    model_name = 'efficientnet_b3'\n",
    "    train_batchsize = 32\n",
    "    val_batchsize = 32\n",
    "    debug = False\n",
    "    \n",
    "    fp16 = True\n",
    "    \n",
    "    #optimizer\n",
    "    optimizer = \"Adam\"\n",
    "    \n",
    "    if optimizer == \"Adam\":\n",
    "        optimizer_params = dict(\n",
    "            lr = 1e-4,\n",
    "            betas = (0.9, 0.999),\n",
    "            eps = 1e-8,\n",
    "            weight_decay = 0,\n",
    "            amsgrad = False\n",
    "        )\n",
    "        \n",
    "    elif optimizer == \"SGD\":\n",
    "        optimizer_params = dict(\n",
    "            lr = 1e-3,\n",
    "            weight_decay = 0,\n",
    "            dampening  = 0,\n",
    "            nesterov = False\n",
    "        ) \n",
    "        \n",
    "    # Scheduler\n",
    "    scheduler = 'CosineAnnealingLR' # CosineAnnealingLR, ReduceLROnPlateau\n",
    "    if scheduler == \"CosineAnnealingLR\":\n",
    "        scheduler_params = dict(\n",
    "            T_max = epochs,\n",
    "            eta_min = 0,\n",
    "            last_epoch = -1,\n",
    "            verbose = False\n",
    "        )\n",
    "    elif scheduler == \"ReduceLROnPlateau\":\n",
    "        scheduler_params = dict(\n",
    "            mode = \"min\",\n",
    "            factor= 0.1,\n",
    "            patience=4,\n",
    "            threshold=1e-4,\n",
    "            min_lr = 1e-6\n",
    "        )"
   ]
  },
  {
   "cell_type": "code",
   "execution_count": 4,
   "id": "b274d3e1",
   "metadata": {
    "execution": {
     "iopub.execute_input": "2021-11-23T14:37:28.031993Z",
     "iopub.status.busy": "2021-11-23T14:37:28.030943Z",
     "iopub.status.idle": "2021-11-23T14:37:28.040924Z",
     "shell.execute_reply": "2021-11-23T14:37:28.040289Z",
     "shell.execute_reply.started": "2021-11-23T14:09:07.099748Z"
    },
    "papermill": {
     "duration": 0.032749,
     "end_time": "2021-11-23T14:37:28.041077",
     "exception": false,
     "start_time": "2021-11-23T14:37:28.008328",
     "status": "completed"
    },
    "tags": []
   },
   "outputs": [],
   "source": [
    "def seed_python(seed):\n",
    "    random.seed(seed)\n",
    "    np.random.seed(seed)\n",
    "    os.environ['PYTHONHASHSEED'] = str(seed)\n",
    "    \n",
    "def seed_torch(seed):\n",
    "    torch.manual_seed(seed)\n",
    "    torch.cuda.manual_seed_all(seed)\n",
    "    \n",
    "seed_python(Config.seed)\n",
    "seed_torch(Config.seed)"
   ]
  },
  {
   "cell_type": "code",
   "execution_count": 5,
   "id": "4838ad54",
   "metadata": {
    "execution": {
     "iopub.execute_input": "2021-11-23T14:37:28.091074Z",
     "iopub.status.busy": "2021-11-23T14:37:28.085770Z",
     "iopub.status.idle": "2021-11-23T14:37:28.093641Z",
     "shell.execute_reply": "2021-11-23T14:37:28.094279Z",
     "shell.execute_reply.started": "2021-11-23T14:09:07.116802Z"
    },
    "papermill": {
     "duration": 0.033064,
     "end_time": "2021-11-23T14:37:28.094441",
     "exception": false,
     "start_time": "2021-11-23T14:37:28.061377",
     "status": "completed"
    },
    "tags": []
   },
   "outputs": [],
   "source": [
    "class PawDataset(Dataset):\n",
    "    def __init__(self, image_fps, targets=None, transforms=None):\n",
    "        super(PawDataset, self).__init__()\n",
    "        self.image_fps = image_fps\n",
    "        self.transforms = transforms\n",
    "        self.targets = targets\n",
    "        \n",
    "    def __len__(self):\n",
    "        return len(self.image_fps)\n",
    "    \n",
    "    def __getitem__(self, idx):\n",
    "        image_fp = self.image_fps[idx]\n",
    "        img = np.array(Image.open(image_fp))\n",
    "        img = self.transforms(image=img)['image']\n",
    "        \n",
    "        if self.targets is not None:\n",
    "            target = torch.tensor(self.targets[idx]).float()\n",
    "            return img, target\n",
    "        \n",
    "        else:\n",
    "            return img\n"
   ]
  },
  {
   "cell_type": "code",
   "execution_count": 6,
   "id": "b093f105",
   "metadata": {
    "execution": {
     "iopub.execute_input": "2021-11-23T14:37:28.142405Z",
     "iopub.status.busy": "2021-11-23T14:37:28.141349Z",
     "iopub.status.idle": "2021-11-23T14:37:28.143845Z",
     "shell.execute_reply": "2021-11-23T14:37:28.144413Z",
     "shell.execute_reply.started": "2021-11-23T14:12:47.660764Z"
    },
    "papermill": {
     "duration": 0.030653,
     "end_time": "2021-11-23T14:37:28.144569",
     "exception": false,
     "start_time": "2021-11-23T14:37:28.113916",
     "status": "completed"
    },
    "tags": []
   },
   "outputs": [],
   "source": [
    "class PawModel(nn.Module):\n",
    "    def __init__(self, model_name):\n",
    "        super(PawModel, self).__init__()\n",
    "        self.backbone = timm.create_model(model_name, pretrained=False, in_chans=3) #this will create a model with classifier\n",
    "        self.fcn = nn.Linear(self.backbone.classifier.in_features, 128)\n",
    "        self.backbone.classifier = nn.Identity()\n",
    "        self.dropout = nn.Dropout(p=0.1)\n",
    "        self.output = nn.Linear(128, 1)\n",
    "        \n",
    "    def forward(self,image_array):\n",
    "        x = self.backbone(image_array)\n",
    "        x = self.fcn(x)\n",
    "        x = self.dropout(x)\n",
    "        return self.output(x)\n",
    "        \n",
    "#Test\n",
    "# model = PawModel()\n",
    "# model(test_dataset[0][0].unsqueeze(0))"
   ]
  },
  {
   "cell_type": "code",
   "execution_count": 7,
   "id": "1886badd",
   "metadata": {
    "execution": {
     "iopub.execute_input": "2021-11-23T14:37:28.229738Z",
     "iopub.status.busy": "2021-11-23T14:37:28.228385Z",
     "iopub.status.idle": "2021-11-23T14:37:28.235473Z",
     "shell.execute_reply": "2021-11-23T14:37:28.236822Z",
     "shell.execute_reply.started": "2021-11-23T14:12:48.054716Z"
    },
    "papermill": {
     "duration": 0.059822,
     "end_time": "2021-11-23T14:37:28.237124",
     "exception": false,
     "start_time": "2021-11-23T14:37:28.177302",
     "status": "completed"
    },
    "tags": []
   },
   "outputs": [],
   "source": [
    "def get_test_loaders(test_ds, test_batchsize=Config.val_batchsize):\n",
    "    test_transform = A.Compose([\n",
    "    A.Resize(Config.image_size, Config.image_size,p=1),\n",
    "    A.Normalize(mean=(0.485, 0.456, 0.406), std=(0.229, 0.224, 0.225), max_pixel_value=255.0, p=1),\n",
    "    ToTensorV2()], p=1)\n",
    "    \n",
    "    test_ds = PawDataset(test_ds[\"filepath\"].to_numpy(), targets=None, transforms=test_transform)\n",
    "    test_dataloader = DataLoader(test_ds, batch_size=test_batchsize, shuffle=False, pin_memory=True)\n",
    "    \n",
    "    return test_dataloader\n"
   ]
  },
  {
   "cell_type": "code",
   "execution_count": 8,
   "id": "ba80b63b",
   "metadata": {
    "execution": {
     "iopub.execute_input": "2021-11-23T14:37:28.326623Z",
     "iopub.status.busy": "2021-11-23T14:37:28.325544Z",
     "iopub.status.idle": "2021-11-23T14:37:28.330310Z",
     "shell.execute_reply": "2021-11-23T14:37:28.331226Z",
     "shell.execute_reply.started": "2021-11-23T14:12:48.252922Z"
    },
    "papermill": {
     "duration": 0.058538,
     "end_time": "2021-11-23T14:37:28.331511",
     "exception": false,
     "start_time": "2021-11-23T14:37:28.272973",
     "status": "completed"
    },
    "tags": []
   },
   "outputs": [],
   "source": [
    "def get_predictions(model, test_dataloader,device):\n",
    "    model.eval()\n",
    "    model.to(device)\n",
    "    progbar = tqdm.tqdm(test_dataloader,desc='test' ,total=len(test_dataloader))\n",
    "    y_preds = []\n",
    "    for img in progbar:\n",
    "        img = img.to(device)\n",
    "        with torch.no_grad():\n",
    "            y_pred = model(img).cpu().numpy() # (b,pred)\n",
    "        \n",
    "        y_preds.append(y_pred)\n",
    "        \n",
    "    return np.concatenate(y_preds)\n",
    "    "
   ]
  },
  {
   "cell_type": "markdown",
   "id": "82871d8b",
   "metadata": {
    "papermill": {
     "duration": 0.041049,
     "end_time": "2021-11-23T14:37:28.421034",
     "exception": false,
     "start_time": "2021-11-23T14:37:28.379985",
     "status": "completed"
    },
    "tags": []
   },
   "source": [
    "## Loading the test dataframe"
   ]
  },
  {
   "cell_type": "code",
   "execution_count": 9,
   "id": "ccb96ec2",
   "metadata": {
    "execution": {
     "iopub.execute_input": "2021-11-23T14:37:28.503407Z",
     "iopub.status.busy": "2021-11-23T14:37:28.502331Z",
     "iopub.status.idle": "2021-11-23T14:37:28.555879Z",
     "shell.execute_reply": "2021-11-23T14:37:28.557098Z",
     "shell.execute_reply.started": "2021-11-23T14:12:48.825054Z"
    },
    "papermill": {
     "duration": 0.097514,
     "end_time": "2021-11-23T14:37:28.557383",
     "exception": false,
     "start_time": "2021-11-23T14:37:28.459869",
     "status": "completed"
    },
    "tags": []
   },
   "outputs": [
    {
     "data": {
      "text/html": [
       "<div>\n",
       "<style scoped>\n",
       "    .dataframe tbody tr th:only-of-type {\n",
       "        vertical-align: middle;\n",
       "    }\n",
       "\n",
       "    .dataframe tbody tr th {\n",
       "        vertical-align: top;\n",
       "    }\n",
       "\n",
       "    .dataframe thead th {\n",
       "        text-align: right;\n",
       "    }\n",
       "</style>\n",
       "<table border=\"1\" class=\"dataframe\">\n",
       "  <thead>\n",
       "    <tr style=\"text-align: right;\">\n",
       "      <th></th>\n",
       "      <th>Id</th>\n",
       "      <th>Subject Focus</th>\n",
       "      <th>Eyes</th>\n",
       "      <th>Face</th>\n",
       "      <th>Near</th>\n",
       "      <th>Action</th>\n",
       "      <th>Accessory</th>\n",
       "      <th>Group</th>\n",
       "      <th>Collage</th>\n",
       "      <th>Human</th>\n",
       "      <th>Occlusion</th>\n",
       "      <th>Info</th>\n",
       "      <th>Blur</th>\n",
       "      <th>filepath</th>\n",
       "    </tr>\n",
       "  </thead>\n",
       "  <tbody>\n",
       "    <tr>\n",
       "      <th>0</th>\n",
       "      <td>4128bae22183829d2b5fea10effdb0c3</td>\n",
       "      <td>1</td>\n",
       "      <td>0</td>\n",
       "      <td>1</td>\n",
       "      <td>0</td>\n",
       "      <td>0</td>\n",
       "      <td>1</td>\n",
       "      <td>1</td>\n",
       "      <td>0</td>\n",
       "      <td>0</td>\n",
       "      <td>1</td>\n",
       "      <td>0</td>\n",
       "      <td>1</td>\n",
       "      <td>../input/petfinder-pawpularity-score/test/4128...</td>\n",
       "    </tr>\n",
       "    <tr>\n",
       "      <th>1</th>\n",
       "      <td>43a2262d7738e3d420d453815151079e</td>\n",
       "      <td>0</td>\n",
       "      <td>1</td>\n",
       "      <td>0</td>\n",
       "      <td>0</td>\n",
       "      <td>0</td>\n",
       "      <td>0</td>\n",
       "      <td>1</td>\n",
       "      <td>1</td>\n",
       "      <td>0</td>\n",
       "      <td>0</td>\n",
       "      <td>0</td>\n",
       "      <td>0</td>\n",
       "      <td>../input/petfinder-pawpularity-score/test/43a2...</td>\n",
       "    </tr>\n",
       "    <tr>\n",
       "      <th>2</th>\n",
       "      <td>4e429cead1848a298432a0acad014c9d</td>\n",
       "      <td>0</td>\n",
       "      <td>0</td>\n",
       "      <td>0</td>\n",
       "      <td>1</td>\n",
       "      <td>0</td>\n",
       "      <td>1</td>\n",
       "      <td>1</td>\n",
       "      <td>1</td>\n",
       "      <td>0</td>\n",
       "      <td>1</td>\n",
       "      <td>1</td>\n",
       "      <td>1</td>\n",
       "      <td>../input/petfinder-pawpularity-score/test/4e42...</td>\n",
       "    </tr>\n",
       "    <tr>\n",
       "      <th>3</th>\n",
       "      <td>80bc3ccafcc51b66303c2c263aa38486</td>\n",
       "      <td>1</td>\n",
       "      <td>0</td>\n",
       "      <td>1</td>\n",
       "      <td>0</td>\n",
       "      <td>0</td>\n",
       "      <td>0</td>\n",
       "      <td>0</td>\n",
       "      <td>0</td>\n",
       "      <td>0</td>\n",
       "      <td>0</td>\n",
       "      <td>1</td>\n",
       "      <td>0</td>\n",
       "      <td>../input/petfinder-pawpularity-score/test/80bc...</td>\n",
       "    </tr>\n",
       "    <tr>\n",
       "      <th>4</th>\n",
       "      <td>8f49844c382931444e68dffbe20228f4</td>\n",
       "      <td>1</td>\n",
       "      <td>1</td>\n",
       "      <td>1</td>\n",
       "      <td>0</td>\n",
       "      <td>1</td>\n",
       "      <td>1</td>\n",
       "      <td>0</td>\n",
       "      <td>1</td>\n",
       "      <td>0</td>\n",
       "      <td>1</td>\n",
       "      <td>1</td>\n",
       "      <td>0</td>\n",
       "      <td>../input/petfinder-pawpularity-score/test/8f49...</td>\n",
       "    </tr>\n",
       "  </tbody>\n",
       "</table>\n",
       "</div>"
      ],
      "text/plain": [
       "                                 Id  Subject Focus  Eyes  Face  Near  Action  \\\n",
       "0  4128bae22183829d2b5fea10effdb0c3              1     0     1     0       0   \n",
       "1  43a2262d7738e3d420d453815151079e              0     1     0     0       0   \n",
       "2  4e429cead1848a298432a0acad014c9d              0     0     0     1       0   \n",
       "3  80bc3ccafcc51b66303c2c263aa38486              1     0     1     0       0   \n",
       "4  8f49844c382931444e68dffbe20228f4              1     1     1     0       1   \n",
       "\n",
       "   Accessory  Group  Collage  Human  Occlusion  Info  Blur  \\\n",
       "0          1      1        0      0          1     0     1   \n",
       "1          0      1        1      0          0     0     0   \n",
       "2          1      1        1      0          1     1     1   \n",
       "3          0      0        0      0          0     1     0   \n",
       "4          1      0        1      0          1     1     0   \n",
       "\n",
       "                                            filepath  \n",
       "0  ../input/petfinder-pawpularity-score/test/4128...  \n",
       "1  ../input/petfinder-pawpularity-score/test/43a2...  \n",
       "2  ../input/petfinder-pawpularity-score/test/4e42...  \n",
       "3  ../input/petfinder-pawpularity-score/test/80bc...  \n",
       "4  ../input/petfinder-pawpularity-score/test/8f49...  "
      ]
     },
     "execution_count": 9,
     "metadata": {},
     "output_type": "execute_result"
    }
   ],
   "source": [
    "test_df = pd.read_csv(\"../input/petfinder-pawpularity-score/test.csv\")\n",
    "test_df['filepath'] = test_df['Id'].map(lambda x : os.path.join(\"../input/petfinder-pawpularity-score/test\", x+\".jpg\"))\n",
    "test_df.head()"
   ]
  },
  {
   "cell_type": "markdown",
   "id": "74b5a6a7",
   "metadata": {
    "papermill": {
     "duration": 0.034514,
     "end_time": "2021-11-23T14:37:28.626409",
     "exception": false,
     "start_time": "2021-11-23T14:37:28.591895",
     "status": "completed"
    },
    "tags": []
   },
   "source": [
    "## Generating the test_dataloader"
   ]
  },
  {
   "cell_type": "code",
   "execution_count": 10,
   "id": "d0d9d930",
   "metadata": {
    "execution": {
     "iopub.execute_input": "2021-11-23T14:37:28.704186Z",
     "iopub.status.busy": "2021-11-23T14:37:28.703101Z",
     "iopub.status.idle": "2021-11-23T14:37:28.706055Z",
     "shell.execute_reply": "2021-11-23T14:37:28.705187Z",
     "shell.execute_reply.started": "2021-11-23T14:12:50.364763Z"
    },
    "papermill": {
     "duration": 0.04595,
     "end_time": "2021-11-23T14:37:28.706285",
     "exception": false,
     "start_time": "2021-11-23T14:37:28.660335",
     "status": "completed"
    },
    "tags": []
   },
   "outputs": [],
   "source": [
    "test_dataloader = get_test_loaders(test_df)"
   ]
  },
  {
   "cell_type": "markdown",
   "id": "5f52d02e",
   "metadata": {
    "papermill": {
     "duration": 0.034597,
     "end_time": "2021-11-23T14:37:28.777274",
     "exception": false,
     "start_time": "2021-11-23T14:37:28.742677",
     "status": "completed"
    },
    "tags": []
   },
   "source": [
    "## Loading the models"
   ]
  },
  {
   "cell_type": "code",
   "execution_count": 11,
   "id": "8d3d3c62",
   "metadata": {
    "execution": {
     "iopub.execute_input": "2021-11-23T14:37:28.830160Z",
     "iopub.status.busy": "2021-11-23T14:37:28.829279Z",
     "iopub.status.idle": "2021-11-23T14:37:40.336314Z",
     "shell.execute_reply": "2021-11-23T14:37:40.335499Z",
     "shell.execute_reply.started": "2021-11-23T14:12:51.112189Z"
    },
    "papermill": {
     "duration": 11.538515,
     "end_time": "2021-11-23T14:37:40.336542",
     "exception": false,
     "start_time": "2021-11-23T14:37:28.798027",
     "status": "completed"
    },
    "tags": []
   },
   "outputs": [
    {
     "data": {
      "text/plain": [
       "<All keys matched successfully>"
      ]
     },
     "execution_count": 11,
     "metadata": {},
     "output_type": "execute_result"
    }
   ],
   "source": [
    "model_0 = PawModel(Config.model_name)\n",
    "model_0.load_state_dict(torch.load(\"../input/pawpularity-trained-model/efficientnet_b3_n_fold_0_best.pth\"))\n",
    "model_1 = PawModel(Config.model_name)\n",
    "model_1.load_state_dict(torch.load(\"../input/pawpularity-trained-model/efficientnet_b3_n_fold_1_best.pth\"))\n",
    "model_2 = PawModel(Config.model_name)\n",
    "model_2.load_state_dict(torch.load(\"../input/pawpularity-trained-model/efficientnet_b3_n_fold_2_best.pth\"))\n",
    "model_3 = PawModel(Config.model_name)\n",
    "model_3.load_state_dict(torch.load(\"../input/pawpularity-trained-model/efficientnet_b3_n_fold_3_best.pth\"))\n",
    "model_4 = PawModel(Config.model_name)\n",
    "model_4.load_state_dict(torch.load(\"../input/pawpularity-trained-model/efficientnet_b3_n_fold_4_best.pth\"))\n",
    "model_5 = PawModel(Config.model_name)\n",
    "model_5.load_state_dict(torch.load(\"../input/pawpularity-trained-model/efficientnet_b3_n_fold_5_best.pth\"))\n"
   ]
  },
  {
   "cell_type": "markdown",
   "id": "7a7a0441",
   "metadata": {
    "papermill": {
     "duration": 0.035069,
     "end_time": "2021-11-23T14:37:40.407218",
     "exception": false,
     "start_time": "2021-11-23T14:37:40.372149",
     "status": "completed"
    },
    "tags": []
   },
   "source": [
    "## Making prediction"
   ]
  },
  {
   "cell_type": "code",
   "execution_count": 12,
   "id": "45122e60",
   "metadata": {
    "execution": {
     "iopub.execute_input": "2021-11-23T14:37:40.494910Z",
     "iopub.status.busy": "2021-11-23T14:37:40.487747Z",
     "iopub.status.idle": "2021-11-23T14:37:47.378292Z",
     "shell.execute_reply": "2021-11-23T14:37:47.377452Z",
     "shell.execute_reply.started": "2021-11-23T14:13:39.770535Z"
    },
    "papermill": {
     "duration": 6.935632,
     "end_time": "2021-11-23T14:37:47.378480",
     "exception": false,
     "start_time": "2021-11-23T14:37:40.442848",
     "status": "completed"
    },
    "tags": []
   },
   "outputs": [
    {
     "name": "stderr",
     "output_type": "stream",
     "text": [
      "test: 100%|██████████| 1/1 [00:06<00:00,  6.15s/it]\n",
      "test: 100%|██████████| 1/1 [00:00<00:00, 11.41it/s]\n",
      "test: 100%|██████████| 1/1 [00:00<00:00, 11.26it/s]\n",
      "test: 100%|██████████| 1/1 [00:00<00:00, 11.02it/s]\n",
      "test: 100%|██████████| 1/1 [00:00<00:00, 11.48it/s]\n",
      "test: 100%|██████████| 1/1 [00:00<00:00, 11.27it/s]\n"
     ]
    }
   ],
   "source": [
    "device = \"cuda\" if torch.cuda.is_available() else \"cpu\"\n",
    "test_df['model_0_preds'] = get_predictions(model_0, test_dataloader, device)\n",
    "test_df['model_1_preds'] = get_predictions(model_1, test_dataloader, device)\n",
    "test_df['model_2_preds'] = get_predictions(model_2, test_dataloader, device)\n",
    "test_df['model_3_preds'] = get_predictions(model_3, test_dataloader, device)\n",
    "test_df['model_4_preds'] = get_predictions(model_4, test_dataloader, device)\n",
    "test_df['model_5_preds'] = get_predictions(model_5, test_dataloader, device)\n",
    "\n",
    "test_df['Pawpularity'] = 1/6* test_df['model_0_preds'] + \\\n",
    "                         1/6* test_df['model_1_preds'] + \\\n",
    "                         1/6* test_df['model_2_preds'] + \\\n",
    "                         1/6* test_df['model_3_preds'] + \\\n",
    "                         1/6* test_df['model_4_preds'] + \\\n",
    "                         1/6* test_df['model_5_preds'] "
   ]
  },
  {
   "cell_type": "markdown",
   "id": "bac4f3d9",
   "metadata": {
    "papermill": {
     "duration": 0.025381,
     "end_time": "2021-11-23T14:37:47.431904",
     "exception": false,
     "start_time": "2021-11-23T14:37:47.406523",
     "status": "completed"
    },
    "tags": []
   },
   "source": [
    "## Submission"
   ]
  },
  {
   "cell_type": "code",
   "execution_count": 13,
   "id": "2a136194",
   "metadata": {
    "execution": {
     "iopub.execute_input": "2021-11-23T14:37:47.493117Z",
     "iopub.status.busy": "2021-11-23T14:37:47.492182Z",
     "iopub.status.idle": "2021-11-23T14:37:47.495643Z",
     "shell.execute_reply": "2021-11-23T14:37:47.495056Z",
     "shell.execute_reply.started": "2021-11-23T14:35:53.505734Z"
    },
    "papermill": {
     "duration": 0.037515,
     "end_time": "2021-11-23T14:37:47.495781",
     "exception": false,
     "start_time": "2021-11-23T14:37:47.458266",
     "status": "completed"
    },
    "tags": []
   },
   "outputs": [],
   "source": [
    "test_df['Pawpularity'] = test_df['Pawpularity'].clip(lower=0.0, upper=100.0)"
   ]
  },
  {
   "cell_type": "code",
   "execution_count": 14,
   "id": "b9052c1e",
   "metadata": {
    "execution": {
     "iopub.execute_input": "2021-11-23T14:37:47.560573Z",
     "iopub.status.busy": "2021-11-23T14:37:47.559502Z",
     "iopub.status.idle": "2021-11-23T14:37:47.572800Z",
     "shell.execute_reply": "2021-11-23T14:37:47.573393Z",
     "shell.execute_reply.started": "2021-11-23T14:35:59.642557Z"
    },
    "papermill": {
     "duration": 0.050843,
     "end_time": "2021-11-23T14:37:47.573551",
     "exception": false,
     "start_time": "2021-11-23T14:37:47.522708",
     "status": "completed"
    },
    "tags": []
   },
   "outputs": [
    {
     "data": {
      "text/html": [
       "<div>\n",
       "<style scoped>\n",
       "    .dataframe tbody tr th:only-of-type {\n",
       "        vertical-align: middle;\n",
       "    }\n",
       "\n",
       "    .dataframe tbody tr th {\n",
       "        vertical-align: top;\n",
       "    }\n",
       "\n",
       "    .dataframe thead th {\n",
       "        text-align: right;\n",
       "    }\n",
       "</style>\n",
       "<table border=\"1\" class=\"dataframe\">\n",
       "  <thead>\n",
       "    <tr style=\"text-align: right;\">\n",
       "      <th></th>\n",
       "      <th>Id</th>\n",
       "      <th>Pawpularity</th>\n",
       "    </tr>\n",
       "  </thead>\n",
       "  <tbody>\n",
       "    <tr>\n",
       "      <th>0</th>\n",
       "      <td>4128bae22183829d2b5fea10effdb0c3</td>\n",
       "      <td>0.000000</td>\n",
       "    </tr>\n",
       "    <tr>\n",
       "      <th>1</th>\n",
       "      <td>43a2262d7738e3d420d453815151079e</td>\n",
       "      <td>0.169400</td>\n",
       "    </tr>\n",
       "    <tr>\n",
       "      <th>2</th>\n",
       "      <td>4e429cead1848a298432a0acad014c9d</td>\n",
       "      <td>0.000000</td>\n",
       "    </tr>\n",
       "    <tr>\n",
       "      <th>3</th>\n",
       "      <td>80bc3ccafcc51b66303c2c263aa38486</td>\n",
       "      <td>0.000000</td>\n",
       "    </tr>\n",
       "    <tr>\n",
       "      <th>4</th>\n",
       "      <td>8f49844c382931444e68dffbe20228f4</td>\n",
       "      <td>0.115022</td>\n",
       "    </tr>\n",
       "    <tr>\n",
       "      <th>5</th>\n",
       "      <td>b03f7041962238a7c9d6537e22f9b017</td>\n",
       "      <td>0.000000</td>\n",
       "    </tr>\n",
       "    <tr>\n",
       "      <th>6</th>\n",
       "      <td>c978013571258ed6d4637f6e8cc9d6a3</td>\n",
       "      <td>0.000000</td>\n",
       "    </tr>\n",
       "    <tr>\n",
       "      <th>7</th>\n",
       "      <td>e0de453c1bffc20c22b072b34b54e50f</td>\n",
       "      <td>0.000000</td>\n",
       "    </tr>\n",
       "  </tbody>\n",
       "</table>\n",
       "</div>"
      ],
      "text/plain": [
       "                                 Id  Pawpularity\n",
       "0  4128bae22183829d2b5fea10effdb0c3     0.000000\n",
       "1  43a2262d7738e3d420d453815151079e     0.169400\n",
       "2  4e429cead1848a298432a0acad014c9d     0.000000\n",
       "3  80bc3ccafcc51b66303c2c263aa38486     0.000000\n",
       "4  8f49844c382931444e68dffbe20228f4     0.115022\n",
       "5  b03f7041962238a7c9d6537e22f9b017     0.000000\n",
       "6  c978013571258ed6d4637f6e8cc9d6a3     0.000000\n",
       "7  e0de453c1bffc20c22b072b34b54e50f     0.000000"
      ]
     },
     "execution_count": 14,
     "metadata": {},
     "output_type": "execute_result"
    }
   ],
   "source": [
    "test_df[['Id', 'Pawpularity']].to_csv(\"submission.csv\", index=False)\n",
    "test_df[['Id', 'Pawpularity']].head(15)"
   ]
  },
  {
   "cell_type": "code",
   "execution_count": null,
   "id": "82753204",
   "metadata": {
    "papermill": {
     "duration": 0.027717,
     "end_time": "2021-11-23T14:37:47.628430",
     "exception": false,
     "start_time": "2021-11-23T14:37:47.600713",
     "status": "completed"
    },
    "tags": []
   },
   "outputs": [],
   "source": []
  }
 ],
 "metadata": {
  "kernelspec": {
   "display_name": "Python 3",
   "language": "python",
   "name": "python3"
  },
  "language_info": {
   "codemirror_mode": {
    "name": "ipython",
    "version": 3
   },
   "file_extension": ".py",
   "mimetype": "text/x-python",
   "name": "python",
   "nbconvert_exporter": "python",
   "pygments_lexer": "ipython3",
   "version": "3.7.10"
  },
  "papermill": {
   "default_parameters": {},
   "duration": 76.905968,
   "end_time": "2021-11-23T14:37:50.896586",
   "environment_variables": {},
   "exception": null,
   "input_path": "__notebook__.ipynb",
   "output_path": "__notebook__.ipynb",
   "parameters": {},
   "start_time": "2021-11-23T14:36:33.990618",
   "version": "2.3.3"
  }
 },
 "nbformat": 4,
 "nbformat_minor": 5
}
